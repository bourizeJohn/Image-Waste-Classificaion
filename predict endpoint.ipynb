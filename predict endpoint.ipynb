{
 "cells": [
  {
   "cell_type": "code",
   "execution_count": null,
   "metadata": {},
   "outputs": [],
   "source": [
    "import requests\n",
    "import json\n",
    "\n",
    "# Define the input data as a list\n",
    "input_data = [5,166,72,19,175,25.8,0.587,51]\n",
    "\n",
    "\n",
    "# Convert the input data to a JSON string\n",
    "input_data_json = json.dumps({\"data\": [input_data]})\n",
    "\n",
    "# Replace with the URL of your deployed service\n",
    "scoring_uri = 'http://e9cddab6-15c5-4a4d-bdee-6101f526ee75.eastus.azurecontainer.io/score'  \n",
    "\n",
    "# Define the content type\n",
    "headers = {\"Content-Type\": \"application/json\"}\n",
    "\n",
    "# Send an HTTP POST request to the endpoint\n",
    "response = requests.post(scoring_uri, data=input_data_json, headers=headers)\n",
    "\n",
    "# Check the response status code\n",
    "if response.status_code == 200:\n",
    "    # Parse the JSON response\n",
    "    result = json.loads(response.json())\n",
    "    print(result)\n",
    "    # Extract the prediction (result) from the response\n",
    "    prediction = result[\"result\"][0]\n",
    "    print(f\"Prediction: {prediction}\")\n",
    "else:\n",
    "    print(f\"Error: {response.text}\")"
   ]
  }
 ],
 "metadata": {
  "language_info": {
   "name": "python"
  }
 },
 "nbformat": 4,
 "nbformat_minor": 2
}
